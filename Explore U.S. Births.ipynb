{
 "cells": [
  {
   "cell_type": "markdown",
   "metadata": {},
   "source": [
    "# The dataset contains the following columns:\n",
    "\n",
    "- year: Year (1994 to 2003).\n",
    "- month: Month (1 to 12).\n",
    "- date_of_month: Day number of the month (1 to 31).\n",
    "- day_of_week: Day of week (1 to 7).\n",
    "- births: Number of births that day.\n",
    "\n",
    "Let's read in the CSV file and explore it\n",
    "\n",
    "- Read the CSV file \"US_births_1994-2003_CDC_NCHS.csv\" into a string.\n",
    "- Split the string on the newline character (\"\\n\").\n",
    "- Display the first 10 values in the resulting list.\n"
   ]
  },
  {
   "cell_type": "code",
   "execution_count": 1,
   "metadata": {},
   "outputs": [
    {
     "data": {
      "text/plain": [
       "['year,month,date_of_month,day_of_week,births',\n",
       " '1994,1,1,6,8096',\n",
       " '1994,1,2,7,7772',\n",
       " '1994,1,3,1,10142',\n",
       " '1994,1,4,2,11248',\n",
       " '1994,1,5,3,11053',\n",
       " '1994,1,6,4,11406',\n",
       " '1994,1,7,5,11251',\n",
       " '1994,1,8,6,8653',\n",
       " '1994,1,9,7,7910']"
      ]
     },
     "execution_count": 1,
     "metadata": {},
     "output_type": "execute_result"
    }
   ],
   "source": [
    "f = open(\"US_births_1994-2003_CDC_NCHS.csv\",'r')\n",
    "string1=f.read()\n",
    "lst = string1.split(\"\\n\")\n",
    "lst[:10]"
   ]
  },
  {
   "cell_type": "markdown",
   "metadata": {},
   "source": [
    "# Converting Data into a list of Lists\n",
    "Create a function named read_csv() that:\n",
    "- Takes a single, required argument, a string representing the file name of the CSV file.\n",
    "- Reads the file into a string, splits the string on the newline character (\"\\n\"), and removes the header row. Assign this list to string_list and create an empty list named final_list.\n",
    "Uses a for loop to:\n",
    "- Iterate over string_list,\n",
    "- Create an empty list named int_fields,\n",
    "- Splits each row on the comma delimiter (,) and assigns the resulting list to string_fields,\n",
    "- Converts each value in string_fields to an integer and appends to int_fields,\n",
    "- Appends int_fields to final_list.\n",
    "\n",
    "Returns final_list.\n",
    "\n",
    "Use the read_csv() function to read in the file \"US_births_1994-2003_CDC_NCHS.csv\" and assign the result to cdc_list.\n",
    "\n",
    "Display the first 10 rows of cdc_list to confirm it's a list of lists, containing only integer values, and no header row.\n"
   ]
  },
  {
   "cell_type": "code",
   "execution_count": 2,
   "metadata": {},
   "outputs": [
    {
     "data": {
      "text/plain": [
       "[[1994, 1, 1, 6, 8096],\n",
       " [1994, 1, 2, 7, 7772],\n",
       " [1994, 1, 3, 1, 10142],\n",
       " [1994, 1, 4, 2, 11248],\n",
       " [1994, 1, 5, 3, 11053],\n",
       " [1994, 1, 6, 4, 11406],\n",
       " [1994, 1, 7, 5, 11251],\n",
       " [1994, 1, 8, 6, 8653],\n",
       " [1994, 1, 9, 7, 7910],\n",
       " [1994, 1, 10, 1, 10498]]"
      ]
     },
     "execution_count": 2,
     "metadata": {},
     "output_type": "execute_result"
    }
   ],
   "source": [
    "def read_csv(file):\n",
    "    f = open(file,'r')\n",
    "    filestr = f.read()\n",
    "    lst = filestr.split(\"\\n\")\n",
    "    string_list = lst[1:]\n",
    "    final_list = []\n",
    "    \n",
    "    for item in string_list:\n",
    "        int_fields = []\n",
    "        string_fields = item.split(\",\")\n",
    "        for each in string_fields:\n",
    "            int_fields.append(int(each))\n",
    "        final_list.append(int_fields)\n",
    "    return final_list\n",
    "\n",
    "cdc_list = read_csv(\"US_births_1994-2003_CDC_NCHS.csv\")\n",
    "cdc_list[:10]\n",
    "    "
   ]
  },
  {
   "cell_type": "markdown",
   "metadata": {},
   "source": [
    "# Calculating Number Of Births Each Month\n",
    "Create a function named month_births() that:\n",
    "- Takes a single, required argument, a list of lists.\n",
    "- Creates an empty dictionary, births_per_month, to store the monthly totals.\n",
    "\n",
    "Uses a for loop to:\n",
    "- Iterate over the list of lists,\n",
    "- Extract the value in the month and births columns,\n",
    "- If the month value already exists as a key in births_per_month, the births value is added to the existing value,\n",
    "- If the month value doesn't exist as a key in births_per_month, it's created and the associated value is the births value.\n",
    "\n",
    "After the loop, return the births_per_month dictionary.\n",
    "\n",
    "Use the month_births() function to calculate the monthly totals for the dataset and assign the result to cdc_month_births. Display the dictionary.\n"
   ]
  },
  {
   "cell_type": "code",
   "execution_count": 3,
   "metadata": {},
   "outputs": [
    {
     "data": {
      "text/plain": [
       "{1: 3232517,\n",
       " 2: 3018140,\n",
       " 3: 3322069,\n",
       " 4: 3185314,\n",
       " 5: 3350907,\n",
       " 6: 3296530,\n",
       " 7: 3498783,\n",
       " 8: 3525858,\n",
       " 9: 3439698,\n",
       " 10: 3378814,\n",
       " 11: 3171647,\n",
       " 12: 3301860}"
      ]
     },
     "execution_count": 3,
     "metadata": {},
     "output_type": "execute_result"
    }
   ],
   "source": [
    "def month_births(lst):\n",
    "    births_per_month = {}\n",
    "    for item in lst:\n",
    "        month = item[1]\n",
    "        births = item[4]\n",
    "        if month in births_per_month:\n",
    "            births_per_month[month] += births\n",
    "        else:\n",
    "            births_per_month[month] = births\n",
    "    return births_per_month\n",
    "\n",
    "cdc_month_births = month_births(cdc_list)\n",
    "cdc_month_births"
   ]
  },
  {
   "cell_type": "markdown",
   "metadata": {},
   "source": [
    "# Calculating Number Of Births Each Day Of Week\n",
    "- Create a function named dow_births() that takes a single, required argument (a list of lists) and returns a dictionary containing the total number of births for each unique value of the day_of_week column.\n",
    "- Use the dow_births() function to return the day-of-week totals for the dataset and assign the result to cdc_day_births. Display the dictionary.\n"
   ]
  },
  {
   "cell_type": "code",
   "execution_count": 4,
   "metadata": {},
   "outputs": [
    {
     "data": {
      "text/plain": [
       "{1: 5789166,\n",
       " 2: 6446196,\n",
       " 3: 6322855,\n",
       " 4: 6288429,\n",
       " 5: 6233657,\n",
       " 6: 4562111,\n",
       " 7: 4079723}"
      ]
     },
     "execution_count": 4,
     "metadata": {},
     "output_type": "execute_result"
    }
   ],
   "source": [
    "def dow_births(lst):\n",
    "    births_per_dow = {}\n",
    "    for item in lst:\n",
    "        dow = item[3]\n",
    "        births = item[4]\n",
    "        if dow in births_per_dow:\n",
    "            births_per_dow[dow] += births\n",
    "        else:\n",
    "            births_per_dow[dow] = births\n",
    "    return births_per_dow\n",
    "\n",
    "cdc_day_births = dow_births(cdc_list)\n",
    "cdc_day_births"
   ]
  },
  {
   "cell_type": "markdown",
   "metadata": {},
   "source": [
    "# Creating A More General Function\n",
    "\n",
    "Create a function named calc_counts() that:\n",
    "- Takes two, required parameters:\n",
    "- data: a list of lists\n",
    "- column: the column number we want to calculate the totals for\n",
    "- Populates and returns a dictionary containing the total number of births for each unique value in the column at position column.\n",
    "\n",
    "Use the calc_counts() function to:\n",
    "- Return the yearly totals for the dataset and assign the result to ```cdc_year_births```.\n",
    "- Return the monthly totals for the dataset and assign the result to ```cdc_month_births```.\n",
    "- Return the day-of-month totals for the dataset and assign the result to ```cdc_dom_births```.\n",
    "- Return the day-of-week totals for the dataset and assign the result to ```cdc_dow_births```.\n"
   ]
  },
  {
   "cell_type": "code",
   "execution_count": 6,
   "metadata": {},
   "outputs": [
    {
     "name": "stdout",
     "output_type": "stream",
     "text": [
      "{2000: 4058814, 2001: 4025933, 2002: 4021726, 2003: 4089950, 1994: 3952767, 1995: 3899589, 1996: 3891494, 1997: 3880894, 1998: 3941553, 1999: 3959417}\n",
      "{1: 3232517, 2: 3018140, 3: 3322069, 4: 3185314, 5: 3350907, 6: 3296530, 7: 3498783, 8: 3525858, 9: 3439698, 10: 3378814, 11: 3171647, 12: 3301860}\n",
      "{1: 1276557, 2: 1288739, 3: 1304499, 4: 1288154, 5: 1299953, 6: 1304474, 7: 1310459, 8: 1312297, 9: 1303292, 10: 1320764, 11: 1314361, 12: 1318437, 13: 1277684, 14: 1320153, 15: 1319171, 16: 1315192, 17: 1324953, 18: 1326855, 19: 1318727, 20: 1324821, 21: 1322897, 22: 1317381, 23: 1293290, 24: 1288083, 25: 1272116, 26: 1284796, 27: 1294395, 28: 1307685, 29: 1223161, 30: 1202095, 31: 746696}\n",
      "{1: 5789166, 2: 6446196, 3: 6322855, 4: 6288429, 5: 6233657, 6: 4562111, 7: 4079723}\n"
     ]
    }
   ],
   "source": [
    "def calc_count(data,column):\n",
    "    births_per_count = {}\n",
    "    for item in data:\n",
    "        count  = item[column]\n",
    "        births = item[4]\n",
    "        if count in births_per_count:\n",
    "            births_per_count[count] += births\n",
    "        else:\n",
    "            births_per_count[count] = births\n",
    "    return births_per_count\n",
    "\n",
    "cdc_year_births = calc_count(cdc_list,0)\n",
    "print(cdc_year_births)\n",
    "cdc_month_births = calc_count(cdc_list,1)\n",
    "print(cdc_month_births)\n",
    "cdc_dom_births = calc_count(cdc_list,2)\n",
    "print(cdc_dom_births)\n",
    "cdc_dow_births = calc_count(cdc_list,3)\n",
    "print(cdc_dow_births)\n",
    "    "
   ]
  },
  {
   "cell_type": "markdown",
   "metadata": {},
   "source": [
    "# Write a function that can calculate the min and max values for any dictionary that's passed in."
   ]
  },
  {
   "cell_type": "code",
   "execution_count": 7,
   "metadata": {},
   "outputs": [
    {
     "data": {
      "text/plain": [
       "2"
      ]
     },
     "execution_count": 7,
     "metadata": {},
     "output_type": "execute_result"
    }
   ],
   "source": [
    "max_val = max(cdc_dow_births, key=cdc_dow_births.get)\n",
    "max_val\n",
    "\n"
   ]
  },
  {
   "cell_type": "code",
   "execution_count": 8,
   "metadata": {},
   "outputs": [
    {
     "data": {
      "text/plain": [
       "7"
      ]
     },
     "execution_count": 8,
     "metadata": {},
     "output_type": "execute_result"
    }
   ],
   "source": [
    "min_val = min(cdc_dow_births,key = cdc_dow_births.get)\n",
    "min_val"
   ]
  },
  {
   "cell_type": "code",
   "execution_count": null,
   "metadata": {
    "collapsed": true
   },
   "outputs": [],
   "source": []
  }
 ],
 "metadata": {
  "anaconda-cloud": {},
  "kernelspec": {
   "display_name": "Python 3",
   "language": "python",
   "name": "python3"
  },
  "language_info": {
   "codemirror_mode": {
    "name": "ipython",
    "version": 3
   },
   "file_extension": ".py",
   "mimetype": "text/x-python",
   "name": "python",
   "nbconvert_exporter": "python",
   "pygments_lexer": "ipython3",
   "version": "3.6.3"
  }
 },
 "nbformat": 4,
 "nbformat_minor": 1
}
